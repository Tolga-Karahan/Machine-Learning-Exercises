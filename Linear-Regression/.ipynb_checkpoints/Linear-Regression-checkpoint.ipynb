{
 "cells": [
  {
   "cell_type": "code",
   "execution_count": 1,
   "metadata": {},
   "outputs": [],
   "source": [
    "# Lineer regresyon iki ve ya ikiden fazla değişkenin birbiri ile olan lineer ilişkisini\n",
    "# tanımlayan istatistiksel bir modeldir. Gerçek hayatta hemen hemen hiç bir zaman tam anlamıyla\n",
    "# bir lineer ilişkiden bahsedemeyiz ama verilerimize en iyi uyan lineer modeli bulmaya çalışırız."
   ]
  },
  {
   "cell_type": "code",
   "execution_count": 2,
   "metadata": {},
   "outputs": [],
   "source": [
    "# Basit ikili lineer regresyonu düşünürsek: Y' = mX + b. Burada ki m ve b parametrelerini \n",
    "# verilerimizi kullandığımız bir eğitim süreci ile kestiririz ve modelimizi kurarız. X ve Y\n",
    "# arasında tam olarak lineer bir ilişki olması gerekmez. Modelimiz her bir örnek için hata\n",
    "# değerlerine sahip olacaktır. Bu hatalar residual olarakta bilinir. Elimizdeki verilere\n",
    "# en iyi uyan modeli yani veri örnekleri üzerinden en az hataya sahip modeli bulmaya çalışırız.\n",
    "# Lineer regresyonda tahmin etmeye çalıştığımız bağımlı değişken sürekli bir değişkendir."
   ]
  },
  {
   "cell_type": "code",
   "execution_count": 3,
   "metadata": {},
   "outputs": [],
   "source": [
    "# Aşağıdaki resimde görünen siyah doğruları yani modelimizin tahmini ile veri noktalarının\n",
    "# aslında bulunduğu yerler arasındaki mesafeyi ve ya hatayı minimize ederek en iyi lineer\n",
    "# modeli bulmaya çalışırız. Bu hatayı ölçmek için MSE, SSE gibi hedef fonksiyonlar kullanılır."
   ]
  },
  {
   "cell_type": "markdown",
   "metadata": {},
   "source": [
    "<img src='files/linearregression.png' />"
   ]
  },
  {
   "cell_type": "code",
   "execution_count": 2,
   "metadata": {},
   "outputs": [
    {
     "name": "stdout",
     "output_type": "stream",
     "text": [
      ".. _boston_dataset:\n",
      "\n",
      "Boston house prices dataset\n",
      "---------------------------\n",
      "\n",
      "**Data Set Characteristics:**  \n",
      "\n",
      "    :Number of Instances: 506 \n",
      "\n",
      "    :Number of Attributes: 13 numeric/categorical predictive. Median Value (attribute 14) is usually the target.\n",
      "\n",
      "    :Attribute Information (in order):\n",
      "        - CRIM     per capita crime rate by town\n",
      "        - ZN       proportion of residential land zoned for lots over 25,000 sq.ft.\n",
      "        - INDUS    proportion of non-retail business acres per town\n",
      "        - CHAS     Charles River dummy variable (= 1 if tract bounds river; 0 otherwise)\n",
      "        - NOX      nitric oxides concentration (parts per 10 million)\n",
      "        - RM       average number of rooms per dwelling\n",
      "        - AGE      proportion of owner-occupied units built prior to 1940\n",
      "        - DIS      weighted distances to five Boston employment centres\n",
      "        - RAD      index of accessibility to radial highways\n",
      "        - TAX      full-value property-tax rate per $10,000\n",
      "        - PTRATIO  pupil-teacher ratio by town\n",
      "        - B        1000(Bk - 0.63)^2 where Bk is the proportion of blacks by town\n",
      "        - LSTAT    % lower status of the population\n",
      "        - MEDV     Median value of owner-occupied homes in $1000's\n",
      "\n",
      "    :Missing Attribute Values: None\n",
      "\n",
      "    :Creator: Harrison, D. and Rubinfeld, D.L.\n",
      "\n",
      "This is a copy of UCI ML housing dataset.\n",
      "https://archive.ics.uci.edu/ml/machine-learning-databases/housing/\n",
      "\n",
      "\n",
      "This dataset was taken from the StatLib library which is maintained at Carnegie Mellon University.\n",
      "\n",
      "The Boston house-price data of Harrison, D. and Rubinfeld, D.L. 'Hedonic\n",
      "prices and the demand for clean air', J. Environ. Economics & Management,\n",
      "vol.5, 81-102, 1978.   Used in Belsley, Kuh & Welsch, 'Regression diagnostics\n",
      "...', Wiley, 1980.   N.B. Various transformations are used in the table on\n",
      "pages 244-261 of the latter.\n",
      "\n",
      "The Boston house-price data has been used in many machine learning papers that address regression\n",
      "problems.   \n",
      "     \n",
      ".. topic:: References\n",
      "\n",
      "   - Belsley, Kuh & Welsch, 'Regression diagnostics: Identifying Influential Data and Sources of Collinearity', Wiley, 1980. 244-261.\n",
      "   - Quinlan,R. (1993). Combining Instance-Based and Model-Based Learning. In Proceedings on the Tenth International Conference of Machine Learning, 236-243, University of Massachusetts, Amherst. Morgan Kaufmann.\n",
      "\n"
     ]
    }
   ],
   "source": [
    "# Veri kümemizi hazırlayalım\n",
    "from sklearn import datasets\n",
    "\n",
    "data = datasets.load_boston()\n",
    "print(data.DESCR)"
   ]
  },
  {
   "cell_type": "code",
   "execution_count": 3,
   "metadata": {},
   "outputs": [],
   "source": [
    "# Verilerimizi DataFrame olarak okuyalım. Veri kümesinde medyan ev fiyatı varsayılan\n",
    "# olarak hedef ve ya bağımlı değişken olarak belirlenmiş. Bizde aynısını kullanacağız."
   ]
  },
  {
   "cell_type": "code",
   "execution_count": 4,
   "metadata": {},
   "outputs": [],
   "source": [
    "import pandas as pd\n",
    "\n",
    "features = pd.DataFrame(data.data, columns=data.feature_names)\n",
    "target = pd.DataFrame(data.target, columns=['MEDV'])"
   ]
  },
  {
   "cell_type": "code",
   "execution_count": 11,
   "metadata": {},
   "outputs": [],
   "source": [
    "# Eğitim ve test kümesini hazırlayalım\n",
    "from sklearn.model_selection import train_test_split\n",
    "\n",
    "X_training, X_test, y_training, y_test = train_test_split(features, target,\n",
    "                                                          test_size=0.25, random_state=0)"
   ]
  },
  {
   "cell_type": "code",
   "execution_count": 5,
   "metadata": {},
   "outputs": [],
   "source": [
    "# Modelimizi kuralım\n",
    "from sklearn import linear_model\n",
    "\n",
    "regressor = linear_model.LinearRegression()\n",
    "model = regressor.fit(X_training, y_training)"
   ]
  },
  {
   "cell_type": "code",
   "execution_count": 12,
   "metadata": {},
   "outputs": [
    {
     "name": "stdout",
     "output_type": "stream",
     "text": [
      "0.6598231124405339\n"
     ]
    }
   ],
   "source": [
    "# R-Squared skora bakalım\n",
    "print(model.score(X_test, y_test))"
   ]
  },
  {
   "cell_type": "code",
   "execution_count": 9,
   "metadata": {},
   "outputs": [
    {
     "name": "stdout",
     "output_type": "stream",
     "text": [
      "[[-1.08011358e-01  4.64204584e-02  2.05586264e-02  2.68673382e+00\n",
      "  -1.77666112e+01  3.80986521e+00  6.92224640e-04 -1.47556685e+00\n",
      "   3.06049479e-01 -1.23345939e-02 -9.52747232e-01  9.31168327e-03\n",
      "  -5.24758378e-01]]\n"
     ]
    }
   ],
   "source": [
    "# Kurulan modelin katsayıları\n",
    "print(model.coef_)"
   ]
  },
  {
   "cell_type": "code",
   "execution_count": 10,
   "metadata": {},
   "outputs": [
    {
     "name": "stdout",
     "output_type": "stream",
     "text": [
      "[36.45948839]\n"
     ]
    }
   ],
   "source": [
    "# Kurulan modeldeki kesişim parametresi\n",
    "print(model.intercept_)"
   ]
  }
 ],
 "metadata": {
  "kernelspec": {
   "display_name": "Python 3",
   "language": "python",
   "name": "python3"
  },
  "language_info": {
   "codemirror_mode": {
    "name": "ipython",
    "version": 3
   },
   "file_extension": ".py",
   "mimetype": "text/x-python",
   "name": "python",
   "nbconvert_exporter": "python",
   "pygments_lexer": "ipython3",
   "version": "3.6.8"
  }
 },
 "nbformat": 4,
 "nbformat_minor": 2
}
